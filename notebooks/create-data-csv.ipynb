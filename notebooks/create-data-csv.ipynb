{
 "cells": [
  {
   "cell_type": "markdown",
   "metadata": {},
   "source": [
    "# Create data CSVs for analysis\n",
    "\n",
    "This notebook creates various CSVs of design matrices which we can later use for analysis. The CSVs created are:\n",
    "\n",
    "* X_design_matrix_first24hr.csv - first 24 hours of a patient's ICU stay\n",
    "* X_design_matrix_randomtime.csv - a random time during the patient's ICU stay"
   ]
  },
  {
   "cell_type": "code",
   "execution_count": null,
   "metadata": {
    "collapsed": true
   },
   "outputs": [],
   "source": [
    "from __future__ import print_function \n",
    "\n",
    "# Import libraries\n",
    "import numpy as np\n",
    "import pandas as pd\n",
    "import psycopg2\n",
    "import sys\n",
    "import datetime as dt\n",
    "import mp_utils as mp\n",
    "\n",
    "USE_SQL=1\n",
    "USE_CSV=0"
   ]
  },
  {
   "cell_type": "code",
   "execution_count": null,
   "metadata": {
    "collapsed": true
   },
   "outputs": [],
   "source": [
    "# below config used on pc70\n",
    "sqluser = 'alistairewj'\n",
    "dbname = 'mimic'\n",
    "schema_name = 'mimiciii'\n",
    "query_schema = 'SET search_path to public,' + schema_name + ';'"
   ]
  },
  {
   "cell_type": "markdown",
   "metadata": {},
   "source": [
    "Load the data in using either a relational database (`USE_SQL=1`) or CSV files in the local directory (`USE_CSV=1`)."
   ]
  },
  {
   "cell_type": "code",
   "execution_count": null,
   "metadata": {
    "collapsed": true
   },
   "outputs": [],
   "source": [
    "if USE_SQL:\n",
    "    # Connect to local postgres version of mimic\n",
    "    con = psycopg2.connect(dbname=dbname, user=sqluser)\n",
    "\n",
    "    # exclusion criteria:\n",
    "    #   - less than 16 years old\n",
    "    #   - stayed in the ICU less than 4 hours\n",
    "    #   - never have any chartevents data (i.e. likely administrative error)\n",
    "    \n",
    "    query = query_schema + 'select * from mp_cohort'\n",
    "    co_all = pd.read_sql_query(query,con)\n",
    "    co = co_all.loc[co_all['excluded']==0,:]\n",
    "    # extract static vars into a separate dataframe\n",
    "    # static vars contain the following:\n",
    "    #  - demographics (gender, age)\n",
    "    #  - hospital admission type\n",
    "    #  - hospital service\n",
    "    #  - race\n",
    "    #  - height, weight, BMI\n",
    "    #  - outcome\n",
    "    #  - time of first code status change\n",
    "    \n",
    "    query = query_schema + 'select * from mp_static_data'\n",
    "    df_static = pd.read_sql_query(query, con)\n",
    "\n",
    "    # get ~5 million rows containing data from errbody\n",
    "    # this takes a little bit of time to load into memory (~2 minutes)\n",
    "\n",
    "    # %%time results\n",
    "    # CPU times: user 42.8 s, sys: 1min 3s, total: 1min 46s\n",
    "    # Wall time: 2min 7s\n",
    "\n",
    "    df = pd.read_sql_query(query_schema + 'select * from mp_data', con)\n",
    "    df.drop('subject_id',axis=1,inplace=True)\n",
    "    df.drop('hadm_id',axis=1,inplace=True)\n",
    "    df.sort_values(['icustay_id','hr'],axis=0,ascending=True,inplace=True)\n",
    "    print('Data loaded from database.')\n",
    "elif USE_CSV:\n",
    "    co_all = pd.read_csv('df_cohort.csv')\n",
    "    co = co_all.loc[co_all['excluded']==0,:]\n",
    "    df = pd.read_csv('df_data.csv')\n",
    "    df_static = pd.read_csv('df_static_data.csv')\n",
    "    print('Data loaded from CSV.')\n",
    "else:\n",
    "    print('No data loaded in!')\n",
    "    \n",
    "co_all.set_index('icustay_id',inplace=True)\n",
    "co.set_index('icustay_id',inplace=True)\n",
    "df_static.set_index('icustay_id',inplace=True)"
   ]
  },
  {
   "cell_type": "code",
   "execution_count": null,
   "metadata": {
    "collapsed": true
   },
   "outputs": [],
   "source": [
    "idxRem = np.zeros(co_all.shape[0],dtype=bool)\n",
    "for c in co_all.columns:\n",
    "    if 'exclusion_' in c:\n",
    "        print('{:5g} - {:2.2f}% - {}'.format(co_all[c].sum(),\n",
    "                                             co_all[c].mean()*100.0,\n",
    "                                            c))\n",
    "        \n",
    "        idxRem[co_all[c].values==1] = True\n",
    "    \n",
    "\n",
    "print('{:5g} - {:2.2f}% - {}'.format(np.sum(idxRem),\n",
    "                                     np.mean(idxRem)*100.0,\n",
    "                                    'total removed'))\n",
    "\n",
    "print('{:5g} - {:2.2f}% - {}'.format(np.sum(~idxRem),\n",
    "                                     np.mean(~idxRem)*100.0,\n",
    "                                    'final cohort'))"
   ]
  },
  {
   "cell_type": "code",
   "execution_count": null,
   "metadata": {
    "collapsed": true
   },
   "outputs": [],
   "source": [
    "def make_design_matrix(W=8, W_extra=24, K=5, seed=111, censor=True):\n",
    "    \"\"\"\n",
    "    Create a design matrix with:\n",
    "    - indexed by icustay_id\n",
    "    - first column is K-fold index\n",
    "    - second column is outcome\n",
    "    - remaining columns are features\n",
    "    \"\"\"\n",
    "\n",
    "    # generate k-fold indices\n",
    "    np.random.seed(seed)\n",
    "    # get unique subject_id\n",
    "    sid = np.sort(np.unique(df_static['subject_id'].values))\n",
    "\n",
    "    # assign k-fold\n",
    "    idxK_sid = np.random.permutation(sid.shape[0])\n",
    "    idxK_sid = np.mod(idxK_sid,K)\n",
    "    \n",
    "    var_min, var_max, var_first, var_last, var_sum, var_first_early, var_last_early, var_static = mp.vars_of_interest()\n",
    "\n",
    "    # create window time for each patient\n",
    "    df_tmp=df_death.copy().merge(df_censor, how='left', left_on='icustay_id', right_on='icustay_id')\n",
    "    time_dict = mp.generate_times(df_tmp, T=2, seed=111, censor=censor)\n",
    "\n",
    "    # generate windows\n",
    "    df_data = mp.get_design_matrix(df, time_dict, W=W, W_extra=W_extra)\n",
    "\n",
    "    # remove icustay_ids if they were censored (made DNR) before icu admission, or close enough to that\n",
    "    if censor:\n",
    "        idx = df_censor.loc[df_censor['censortime_hours']<=0, 'icustay_id']\n",
    "        print('Removed {} icustay_id as they were censored on/before ICU admission.'.format((idx.shape[0])))\n",
    "        df_data.drop(idx, axis=0, inplace=True)\n",
    "\n",
    "    # first, the data from static vars from df_static\n",
    "    X = df_data.merge(df_static.set_index('icustay_id')[var_static], how='left', left_index=True, right_index=True)\n",
    "\n",
    "    # next, add in the outcome: death in hospital\n",
    "    X = X.merge([['death']], left_index=True, right_index=True)\n",
    "\n",
    "    # generate K-fold indices\n",
    "    X = X.merge(df_death.set_index('icustay_id')[['subject_id']], left_index=True, right_index=True)\n",
    "\n",
    "    # get indices which map subject_ids in sid to the X dataframe\n",
    "    idxMap = np.searchsorted(sid, X['subject_id'].values)\n",
    "\n",
    "    # use these indices to map the k-fold integers\n",
    "    idxK = idxK_sid[idxMap]\n",
    "\n",
    "    # add idxK to design matrix\n",
    "    X['idxK'] = idxK\n",
    "\n",
    "    return X"
   ]
  },
  {
   "cell_type": "code",
   "execution_count": null,
   "metadata": {
    "collapsed": true
   },
   "outputs": [],
   "source": [
    "X = make_design_matrix(W=8, W_extra=24, K=5, seed=111, censor=True)\n",
    "X.to_csv('X_design_matrix_first24.csv')"
   ]
  },
  {
   "cell_type": "code",
   "execution_count": null,
   "metadata": {
    "collapsed": true
   },
   "outputs": [],
   "source": [
    "X = make_design_matrix(W=8, W_extra=24, K=5, seed=111, censor=True)\n",
    "X.to_csv('X_design_matrix_randomtime.csv')"
   ]
  }
 ],
 "metadata": {
  "kernelspec": {
   "display_name": "Python 2",
   "language": "python",
   "name": "python2"
  },
  "language_info": {
   "codemirror_mode": {
    "name": "ipython",
    "version": 2
   },
   "file_extension": ".py",
   "mimetype": "text/x-python",
   "name": "python",
   "nbconvert_exporter": "python",
   "pygments_lexer": "ipython2",
   "version": "2.7.12"
  }
 },
 "nbformat": 4,
 "nbformat_minor": 1
}
